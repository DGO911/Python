{
 "cells": [
  {
   "cell_type": "code",
   "execution_count": 1,
   "metadata": {},
   "outputs": [],
   "source": [
    "#Bibliotecas\n",
    "\n",
    "import pandas as pd\n",
    "import numpy as np"
   ]
  },
  {
   "cell_type": "code",
   "execution_count": 2,
   "metadata": {},
   "outputs": [],
   "source": [
    "#Metodo para separar o STX. retorno em biblioteca\n",
    "\n",
    "def tratamento(A):\n",
    "    STR = A[0:153]\n",
    "    STX = STR[0:4]\n",
    "    dia = STR[4:6]\n",
    "    mes = STR[6:8]\n",
    "    ano = STR[8:12]\n",
    "    data = dia +'/'+mes+'/'+ano\n",
    "    hora = STR[12:14]\n",
    "    minuto = STR[14:16]\n",
    "    seg = STR[16:18]\n",
    "    hora = hora+':'+minuto+':'+seg\n",
    "    terminal = STR[18:23]\n",
    "    bomba = STR[23:25]\n",
    "    produto = STR[25:28]\n",
    "    rav = STR[42:62]\n",
    "    odo = STR[62:69]\n",
    "    hori = STR[69:76]\n",
    "    volume = STR[76:84]\n",
    "    operador = STR[84:91]\n",
    "    rest = STR[91:141].replace(' ','')\n",
    "    nserie = STR[141:150]\n",
    "    trat = {'STX':STX ,'DATA':data,'HORA':hora,'TERMINAL':terminal,'BOMBA':bomba,'PRODUTO':produto,'RAVO':rav,'ODOMETRO':odo,'HORIMETRO':hori,'VOLUME':volume,'OPERADOR':operador,'REST':rest,'NSerie':nserie}\n",
    "    return trat"
   ]
  },
  {
   "cell_type": "code",
   "execution_count": 3,
   "metadata": {},
   "outputs": [],
   "source": [
    "#Metodo para pegar os 2 primeiros caracter da string\n",
    "\n",
    "def sepa(A):\n",
    "    p = A[0]\n",
    "    s = A[1]\n",
    "    re = A[2:]\n",
    "    return p,s"
   ]
  },
  {
   "cell_type": "code",
   "execution_count": 4,
   "metadata": {},
   "outputs": [],
   "source": [
    "#CAminho do arquivo a ser lido\n",
    "\n",
    "tipo = '.csv'\n",
    "file = 'C:\\GIT\\Python\\Dani\\exportar28'\n",
    "filec = file + tipo \n",
    "colunas = 'Terminal','STX','DATA'"
   ]
  },
  {
   "cell_type": "code",
   "execution_count": 6,
   "metadata": {},
   "outputs": [],
   "source": [
    "#Jogando o arquivo para arp\n",
    "\n",
    "arq = pd.read_csv(filec, header=0,names=colunas)"
   ]
  },
  {
   "cell_type": "code",
   "execution_count": 7,
   "metadata": {},
   "outputs": [],
   "source": [
    "#Criando uma lista com os STX ja tratando\n",
    "\n",
    "b = []\n",
    "for A in arq.STX:\n",
    "    b.append(tratamento(A))"
   ]
  },
  {
   "cell_type": "code",
   "execution_count": 8,
   "metadata": {},
   "outputs": [],
   "source": [
    "#Transformando uma lista em DataFrame\n",
    "\n",
    "col01 = ['STX','DATA','HORA','TERMINAL','BOMBA','PRODUTO','RAVO','ODOMETRO','HORIMETRO','VOLUME','OPERADOR','REST','NSerie']\n",
    "df = pd.DataFrame(b,columns = col01)"
   ]
  },
  {
   "cell_type": "code",
   "execution_count": 10,
   "metadata": {},
   "outputs": [],
   "source": [
    "#Gerando bolleando se é ravo ou não\n",
    "\n",
    "c = []\n",
    "for X in df.RAVO:\n",
    "    if sepa(X)[0] == 'H' and sepa(X)[1] == '9':\n",
    "        c.append(True)\n",
    "    else:\n",
    "        c.append(False)"
   ]
  },
  {
   "cell_type": "code",
   "execution_count": 11,
   "metadata": {},
   "outputs": [],
   "source": [
    "#Criando um Serie com a lista de booleando\n",
    "se = pd.Series(c)"
   ]
  },
  {
   "cell_type": "code",
   "execution_count": 12,
   "metadata": {},
   "outputs": [],
   "source": [
    "#Filtrando o DAtaframe com os booleando da Serie\n",
    "\n",
    "rav01 = df[se]"
   ]
  },
  {
   "cell_type": "code",
   "execution_count": 14,
   "metadata": {},
   "outputs": [],
   "source": [
    "#Salvando a planilha em Excel\n",
    "\n",
    "tipo1 = '.xlsx'\n",
    "file1 = 'C:\\GIT\\Python\\Dani\\Pronto\\ColoradoFinaldia' + file[27:]\n",
    "filef = file1 + tipo1\n",
    "rav01.to_excel(filef)"
   ]
  },
  {
   "cell_type": "code",
   "execution_count": null,
   "metadata": {},
   "outputs": [],
   "source": []
  },
  {
   "cell_type": "code",
   "execution_count": null,
   "metadata": {},
   "outputs": [],
   "source": []
  },
  {
   "cell_type": "code",
   "execution_count": null,
   "metadata": {},
   "outputs": [],
   "source": []
  },
  {
   "cell_type": "code",
   "execution_count": null,
   "metadata": {},
   "outputs": [],
   "source": []
  },
  {
   "cell_type": "code",
   "execution_count": null,
   "metadata": {},
   "outputs": [],
   "source": []
  }
 ],
 "metadata": {
  "kernelspec": {
   "display_name": "Python 3",
   "language": "python",
   "name": "python3"
  },
  "language_info": {
   "codemirror_mode": {
    "name": "ipython",
    "version": 3
   },
   "file_extension": ".py",
   "mimetype": "text/x-python",
   "name": "python",
   "nbconvert_exporter": "python",
   "pygments_lexer": "ipython3",
   "version": "3.7.6"
  }
 },
 "nbformat": 4,
 "nbformat_minor": 4
}

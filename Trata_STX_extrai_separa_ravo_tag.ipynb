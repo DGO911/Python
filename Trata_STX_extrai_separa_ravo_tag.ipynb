{
 "cells": [
  {
   "cell_type": "code",
   "execution_count": 1,
   "metadata": {},
   "outputs": [],
   "source": [
    "#Bibliotecas\n",
    "\n",
    "import pandas as pd\n",
    "import numpy as np"
   ]
  },
  {
   "cell_type": "code",
   "execution_count": 2,
   "metadata": {},
   "outputs": [],
   "source": [
    "#Metodo para separar o STX. retorno em biblioteca\n",
    "\n",
    "def tratamento(A):\n",
    "    STR = A[0:153]\n",
    "    STX = STR[0:4]\n",
    "    dia = STR[4:6]\n",
    "    mes = STR[6:8]\n",
    "    ano = STR[8:12]\n",
    "    data = dia +'/'+mes+'/'+ano\n",
    "    hora = STR[12:14]\n",
    "    minuto = STR[14:16]\n",
    "    seg = STR[16:18]\n",
    "    hora = hora+':'+minuto+':'+seg\n",
    "    terminal = STR[18:23]\n",
    "    bomba = STR[23:25]\n",
    "    produto = STR[25:28]\n",
    "    rav = STR[42:62]\n",
    "    odo = STR[62:69]\n",
    "    hori = STR[69:76]\n",
    "    volume = STR[76:84]\n",
    "    operador = STR[84:91]\n",
    "    rest = STR[91:141].replace(' ','')\n",
    "    nserie = STR[141:150]\n",
    "    trat = {'STX':STX ,'DATA':data,'HORA':hora,'TERMINAL':terminal,'BOMBA':bomba,'PRODUTO':produto,'RAVO':rav,'ODOMETRO':odo,'HORIMETRO':hori,'VOLUME':volume,'OPERADOR':operador,'REST':rest,'NSerie':nserie}\n",
    "    return trat"
   ]
  },
  {
   "cell_type": "code",
   "execution_count": 3,
   "metadata": {},
   "outputs": [],
   "source": [
    "#Metodo para pegar os 2 primeiros caracter da string\n",
    "\n",
    "def sepa(A):\n",
    "    p = A[0]\n",
    "    s = A[1]\n",
    "    return s"
   ]
  },
  {
   "cell_type": "code",
   "execution_count": 4,
   "metadata": {},
   "outputs": [],
   "source": [
    "def unif(X):\n",
    "    colunas = 'Terminal','STX','DATA'\n",
    "    arq = pd.read_csv(X, header=0,names=colunas)\n",
    "    diretorio = X[:X.rfind('\\\\')+1]\n",
    "    nome = X[X.rfind('\\\\')+1:X.rfind('.')]\n",
    "    tipo = X[X.rfind('.'):]\n",
    "    b = []\n",
    "    for A in arq.STX:\n",
    "        b.append(tratamento(A))\n",
    "    col = ['STX','DATA','HORA','TERMINAL','BOMBA','PRODUTO','RAVO','ODOMETRO','HORIMETRO','VOLUME','OPERADOR','REST','NSerie']\n",
    "    df = pd.DataFrame(b,columns = col)\n",
    "    c = []\n",
    "    for X in df.RAVO:\n",
    "        if sepa(X) == '9':\n",
    "            c.append(True)\n",
    "        else:\n",
    "            c.append(False)\n",
    "    d = []\n",
    "    for Y in df.RAVO:\n",
    "        if sepa(Y) != '9':\n",
    "            d.append(True)\n",
    "        else:\n",
    "            d.append(False)\n",
    "    srav = pd.Series(c)\n",
    "    stag = pd.Series(d)\n",
    "    rav = df[srav]\n",
    "    tag = df[stag]\n",
    "    tipof = '.xlsx'\n",
    "    direr = diretorio + 'Final\\\\' + nome + 'Final_Ravo' + tipof\n",
    "    diret = diretorio + 'Final\\\\' + nome + 'Final_Tag' + tipof\n",
    "    rav.to_excel(direr,sheet_name = 'rav')\n",
    "    tag.to_excel(diret,sheet_name = 'tag')"
   ]
  },
  {
   "cell_type": "code",
   "execution_count": 7,
   "metadata": {},
   "outputs": [],
   "source": [
    "unif('C:\\\\GIT\\\\Python\\\\Dani\\\\exportar22.csv')"
   ]
  },
  {
   "cell_type": "code",
   "execution_count": null,
   "metadata": {},
   "outputs": [],
   "source": []
  },
  {
   "cell_type": "code",
   "execution_count": null,
   "metadata": {},
   "outputs": [],
   "source": []
  },
  {
   "cell_type": "code",
   "execution_count": null,
   "metadata": {},
   "outputs": [],
   "source": []
  },
  {
   "cell_type": "code",
   "execution_count": null,
   "metadata": {},
   "outputs": [],
   "source": []
  },
  {
   "cell_type": "code",
   "execution_count": null,
   "metadata": {},
   "outputs": [],
   "source": []
  }
 ],
 "metadata": {
  "kernelspec": {
   "display_name": "Python 3",
   "language": "python",
   "name": "python3"
  },
  "language_info": {
   "codemirror_mode": {
    "name": "ipython",
    "version": 3
   },
   "file_extension": ".py",
   "mimetype": "text/x-python",
   "name": "python",
   "nbconvert_exporter": "python",
   "pygments_lexer": "ipython3",
   "version": "3.7.6"
  }
 },
 "nbformat": 4,
 "nbformat_minor": 4
}

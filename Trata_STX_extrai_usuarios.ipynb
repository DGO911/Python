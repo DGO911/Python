{
 "cells": [
  {
   "cell_type": "code",
   "execution_count": 1,
   "metadata": {},
   "outputs": [],
   "source": [
    "#Bibliotecas\n",
    "\n",
    "import pandas as pd\n",
    "import numpy as np"
   ]
  },
  {
   "cell_type": "code",
   "execution_count": 2,
   "metadata": {},
   "outputs": [],
   "source": [
    "#Metodo para separar o STX. retorno em biblioteca\n",
    "\n",
    "def tratamento(A):\n",
    "    STR = A[0:147]\n",
    "    STX = STR[0:4]\n",
    "    dia = STR[4:6]\n",
    "    mes = STR[6:8]\n",
    "    ano = STR[8:12]\n",
    "    data = dia +'/'+mes+'/'+ano\n",
    "    hora = STR[12:14]\n",
    "    minuto = STR[14:16]\n",
    "    seg = STR[16:18]\n",
    "    hora = hora+':'+minuto+':'+seg\n",
    "    terminal = STR[18:23]\n",
    "    bomba = STR[23:25]\n",
    "    produto = STR[25:28]\n",
    "    vei = STR[28:42]\n",
    "    rav = STR[42:62]\n",
    "    odo = STR[62:69]\n",
    "    hori = STR[69:76]\n",
    "    volume = STR[76:84]\n",
    "    operador = STR[84:91]\n",
    "    rest = STR[91:141].replace(' ','')\n",
    "    nserie = STR[141:150]\n",
    "    trat = {'STX':STX ,'DATA':data,'HORA':hora,'TERMINAL':terminal,'BOMBA':bomba,'PRODUTO':produto,'VEICULO':vei,'RAVO':rav,'ODOMETRO':odo,'HORIMETRO':hori,'VOLUME':volume,'OPERADOR':operador,'REST':rest,'NSerie':nserie}\n",
    "    return trat"
   ]
  },
  {
   "cell_type": "code",
   "execution_count": 3,
   "metadata": {},
   "outputs": [],
   "source": [
    "#Metodo para pegar os 2 primeiros caracter da string\n",
    "\n",
    "def sepa(A):\n",
    "    p = A[0]\n",
    "    s = A[1]\n",
    "    re = A[2:]\n",
    "    return p,s"
   ]
  },
  {
   "cell_type": "code",
   "execution_count": 4,
   "metadata": {},
   "outputs": [],
   "source": [
    "#CAminho do arquivo a ser lido\n",
    "\n",
    "tipo = '.csv'\n",
    "file = 'C:\\GIT\\Python\\Dani\\mercedes'\n",
    "filec = file + tipo \n",
    "colunas = 'Terminal','STX','DATA'"
   ]
  },
  {
   "cell_type": "code",
   "execution_count": 5,
   "metadata": {},
   "outputs": [],
   "source": [
    "#Jogando o arquivo para arp\n",
    "\n",
    "arq = pd.read_csv(filec,names=colunas)"
   ]
  },
  {
   "cell_type": "code",
   "execution_count": 6,
   "metadata": {},
   "outputs": [
    {
     "data": {
      "text/plain": [
       "0     STX61908202010065600001020040000000675712F0000...\n",
       "1     STX61908202010100300001020040000000675712F0000...\n",
       "2     STX61908202010122700001020040000000675712F0000...\n",
       "3     STX61908202010134800001020040000000675712F0000...\n",
       "4     STX6190820201014520000102004000000C60187720000...\n",
       "5     STX6190820201014520000102004000000C60187720000...\n",
       "6     STX61908202010195700001020040000000675712F0000...\n",
       "7     STX61908202010230800001020040000000675712F0000...\n",
       "8     STX6240820200723410000104008              0000...\n",
       "9     STX6240820200725180000104008              0000...\n",
       "10    STX6240820200727320000104008              0000...\n",
       "Name: STX, dtype: object"
      ]
     },
     "execution_count": 6,
     "metadata": {},
     "output_type": "execute_result"
    }
   ],
   "source": [
    "arq.STX"
   ]
  },
  {
   "cell_type": "code",
   "execution_count": 7,
   "metadata": {},
   "outputs": [],
   "source": [
    "#Criando uma lista com os STX ja tratando\n",
    "\n",
    "b = []\n",
    "for A in arq.STX:\n",
    "    b.append(tratamento(A))"
   ]
  },
  {
   "cell_type": "code",
   "execution_count": 8,
   "metadata": {},
   "outputs": [],
   "source": [
    "#Transformando uma lista em DataFrame\n",
    "\n",
    "col01 = ['STX','DATA','HORA','TERMINAL','BOMBA','PRODUTO','VEICULO','RAVO','ODOMETRO','HORIMETRO','VOLUME','OPERADOR','REST','NSerie']\n",
    "df = pd.DataFrame(b,columns = col01)"
   ]
  },
  {
   "cell_type": "code",
   "execution_count": 9,
   "metadata": {},
   "outputs": [],
   "source": [
    "#Gerando lista de infos de veiculos\n",
    "\n",
    "c = []\n",
    "for X in df.VEICULO:\n",
    "    c.append(X)"
   ]
  },
  {
   "cell_type": "code",
   "execution_count": 10,
   "metadata": {},
   "outputs": [],
   "source": [
    "#Criando um DataFrame com a lista de booleando\n",
    "se = pd.DataFrame(c)"
   ]
  },
  {
   "cell_type": "code",
   "execution_count": 12,
   "metadata": {},
   "outputs": [],
   "source": [
    "se01 = se.drop_duplicates()"
   ]
  },
  {
   "cell_type": "code",
   "execution_count": 13,
   "metadata": {},
   "outputs": [],
   "source": [
    "#Salvando a planilha em Excel\n",
    "\n",
    "tipo1 = '.xlsx'\n",
    "file1 = 'C:\\GIT\\Python\\Dani\\Pronto\\mercedesFinal'\n",
    "filef = file1 + tipo1\n",
    "se01.to_excel(filef)"
   ]
  },
  {
   "cell_type": "code",
   "execution_count": null,
   "metadata": {},
   "outputs": [],
   "source": []
  },
  {
   "cell_type": "code",
   "execution_count": null,
   "metadata": {},
   "outputs": [],
   "source": []
  },
  {
   "cell_type": "code",
   "execution_count": null,
   "metadata": {},
   "outputs": [],
   "source": []
  },
  {
   "cell_type": "code",
   "execution_count": null,
   "metadata": {},
   "outputs": [],
   "source": []
  },
  {
   "cell_type": "code",
   "execution_count": null,
   "metadata": {},
   "outputs": [],
   "source": []
  },
  {
   "cell_type": "code",
   "execution_count": null,
   "metadata": {},
   "outputs": [],
   "source": []
  }
 ],
 "metadata": {
  "kernelspec": {
   "display_name": "Python 3",
   "language": "python",
   "name": "python3"
  },
  "language_info": {
   "codemirror_mode": {
    "name": "ipython",
    "version": 3
   },
   "file_extension": ".py",
   "mimetype": "text/x-python",
   "name": "python",
   "nbconvert_exporter": "python",
   "pygments_lexer": "ipython3",
   "version": "3.7.6"
  }
 },
 "nbformat": 4,
 "nbformat_minor": 4
}
